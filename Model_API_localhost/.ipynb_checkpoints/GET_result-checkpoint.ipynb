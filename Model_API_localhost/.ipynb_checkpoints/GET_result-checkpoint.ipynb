{
 "cells": [
  {
   "cell_type": "code",
   "execution_count": 1,
   "id": "59f59d12",
   "metadata": {},
   "outputs": [
    {
     "name": "stderr",
     "output_type": "stream",
     "text": [
      "  % Total    % Received % Xferd  Average Speed   Time    Time     Time  Current\n",
      "                                 Dload  Upload   Total   Spent    Left  Speed\n",
      "100    10  100    10    0     0    232      0 --:--:-- --:--:-- --:--:--   263\n"
     ]
    },
    {
     "name": "stdout",
     "output_type": "stream",
     "text": [
      "822266.75\n"
     ]
    }
   ],
   "source": [
    "%%bash\n",
    "curl 'http://localhost:5000/predict?vol_moving_avg=465445.546&adj_close_rolling_med=25544'"
   ]
  },
  {
   "cell_type": "code",
   "execution_count": null,
   "id": "0c16fe74",
   "metadata": {},
   "outputs": [],
   "source": []
  }
 ],
 "metadata": {
  "kernelspec": {
   "display_name": "pro_project",
   "language": "python",
   "name": "pro_project"
  },
  "language_info": {
   "codemirror_mode": {
    "name": "ipython",
    "version": 3
   },
   "file_extension": ".py",
   "mimetype": "text/x-python",
   "name": "python",
   "nbconvert_exporter": "python",
   "pygments_lexer": "ipython3",
   "version": "3.10.9"
  }
 },
 "nbformat": 4,
 "nbformat_minor": 5
}
