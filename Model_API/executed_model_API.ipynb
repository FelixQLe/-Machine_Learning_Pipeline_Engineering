{
 "cells": [
  {
   "cell_type": "code",
   "execution_count": null,
   "id": "b8a9e730",
   "metadata": {},
   "outputs": [
    {
     "name": "stdout",
     "output_type": "stream",
     "text": [
      " * Serving Flask app '__main__'\n",
      " * Debug mode: off\n"
     ]
    },
    {
     "name": "stderr",
     "output_type": "stream",
     "text": [
      "/opt/miniconda3/envs/pro_project/lib/python3.10/site-packages/sklearn/base.py:318: UserWarning: Trying to unpickle estimator MinMaxScaler from version 1.0.2 when using version 1.2.2. This might lead to breaking code or invalid results. Use at your own risk. For more info please refer to:\n",
      "https://scikit-learn.org/stable/model_persistence.html#security-maintainability-limitations\n",
      "  warnings.warn(\n",
      "WARNING: This is a development server. Do not use it in a production deployment. Use a production WSGI server instead.\n",
      " * Running on http://127.0.0.1:5000\n",
      "Press CTRL+C to quit\n",
      "127.0.0.1 - - [08/May/2023 12:23:20] \"GET / HTTP/1.1\" 404 -\n",
      "127.0.0.1 - - [08/May/2023 12:23:21] \"GET /favicon.ico HTTP/1.1\" 404 -\n"
     ]
    },
    {
     "name": "stdout",
     "output_type": "stream",
     "text": [
      "1/1 [==============================] - 0s 170ms/step\n"
     ]
    },
    {
     "name": "stderr",
     "output_type": "stream",
     "text": [
      "2023-05-08 12:25:18.042428: W tensorflow/core/platform/profile_utils/cpu_utils.cc:128] Failed to get CPU frequency: 0 Hz\n",
      "127.0.0.1 - - [08/May/2023 12:25:18] \"GET /predict?vol_moving_avg=465445.546&adj_close_rolling_med=25544 HTTP/1.1\" 200 -\n"
     ]
    },
    {
     "name": "stdout",
     "output_type": "stream",
     "text": [
      "1/1 [==============================] - 0s 11ms/step\n"
     ]
    },
    {
     "name": "stderr",
     "output_type": "stream",
     "text": [
      "127.0.0.1 - - [08/May/2023 12:25:41] \"GET /predict?vol_moving_avg=465445.546&adj_close_rolling_med=25544 HTTP/1.1\" 200 -\n",
      "127.0.0.1 - - [08/May/2023 12:25:42] \"GET /favicon.ico HTTP/1.1\" 404 -\n"
     ]
    },
    {
     "name": "stdout",
     "output_type": "stream",
     "text": [
      "1/1 [==============================] - 0s 13ms/step\n"
     ]
    },
    {
     "name": "stderr",
     "output_type": "stream",
     "text": [
      "127.0.0.1 - - [08/May/2023 12:26:23] \"GET /predict?vol_moving_avg=465445.546&adj_close_rolling_med=25544 HTTP/1.1\" 200 -\n",
      "127.0.0.1 - - [08/May/2023 12:26:38] \"GET / HTTP/1.1\" 404 -\n",
      "127.0.0.1 - - [08/May/2023 12:26:38] \"GET /apple-touch-icon-precomposed.png HTTP/1.1\" 404 -\n",
      "127.0.0.1 - - [08/May/2023 12:26:38] \"GET /apple-touch-icon.png HTTP/1.1\" 404 -\n",
      "127.0.0.1 - - [08/May/2023 12:26:38] \"GET /favicon.ico HTTP/1.1\" 404 -\n",
      "127.0.0.1 - - [08/May/2023 12:26:38] \"GET /apple-touch-icon-precomposed.png HTTP/1.1\" 404 -\n",
      "127.0.0.1 - - [08/May/2023 12:26:38] \"GET /apple-touch-icon.png HTTP/1.1\" 404 -\n",
      "127.0.0.1 - - [08/May/2023 12:26:38] \"GET /favicon.ico HTTP/1.1\" 404 -\n",
      "127.0.0.1 - - [08/May/2023 12:26:38] \"GET / HTTP/1.1\" 404 -\n",
      "127.0.0.1 - - [08/May/2023 12:26:38] \"GET /apple-touch-icon-precomposed.png HTTP/1.1\" 404 -\n",
      "127.0.0.1 - - [08/May/2023 12:26:38] \"GET /apple-touch-icon.png HTTP/1.1\" 404 -\n",
      "127.0.0.1 - - [08/May/2023 12:26:38] \"GET /favicon.ico HTTP/1.1\" 404 -\n",
      "127.0.0.1 - - [08/May/2023 12:26:38] \"GET /apple-touch-icon-precomposed.png HTTP/1.1\" 404 -\n",
      "127.0.0.1 - - [08/May/2023 12:26:38] \"GET /apple-touch-icon.png HTTP/1.1\" 404 -\n",
      "127.0.0.1 - - [08/May/2023 12:26:38] \"GET /favicon.ico HTTP/1.1\" 404 -\n"
     ]
    },
    {
     "name": "stdout",
     "output_type": "stream",
     "text": [
      "1/1 [==============================] - 0s 18ms/step\n"
     ]
    },
    {
     "name": "stderr",
     "output_type": "stream",
     "text": [
      "127.0.0.1 - - [08/May/2023 12:27:47] \"GET /predict?vol_moving_avg=465445.546&adj_close_rolling_med=25544 HTTP/1.1\" 200 -\n"
     ]
    },
    {
     "name": "stdout",
     "output_type": "stream",
     "text": [
      "1/1 [==============================] - 0s 13ms/step\n"
     ]
    },
    {
     "name": "stderr",
     "output_type": "stream",
     "text": [
      "127.0.0.1 - - [08/May/2023 12:28:10] \"GET /predict?vol_moving_avg=465445.546&adj_close_rolling_med=25544 HTTP/1.1\" 200 -\n"
     ]
    },
    {
     "name": "stdout",
     "output_type": "stream",
     "text": [
      "1/1 [==============================] - 0s 14ms/step\n"
     ]
    },
    {
     "name": "stderr",
     "output_type": "stream",
     "text": [
      "127.0.0.1 - - [08/May/2023 12:28:13] \"GET /predict?vol_moving_avg=465445.546&adj_close_rolling_med=25544 HTTP/1.1\" 200 -\n"
     ]
    },
    {
     "name": "stdout",
     "output_type": "stream",
     "text": [
      "1/1 [==============================] - 0s 14ms/step\n"
     ]
    },
    {
     "name": "stderr",
     "output_type": "stream",
     "text": [
      "127.0.0.1 - - [08/May/2023 12:28:15] \"GET /predict?vol_moving_avg=465445.546&adj_close_rolling_med=25544 HTTP/1.1\" 200 -\n"
     ]
    },
    {
     "name": "stdout",
     "output_type": "stream",
     "text": [
      "1/1 [==============================] - 0s 14ms/step\n"
     ]
    },
    {
     "name": "stderr",
     "output_type": "stream",
     "text": [
      "127.0.0.1 - - [08/May/2023 12:28:20] \"GET /predict?vol_moving_avg=465445.546&adj_close_rolling_med=25544.55 HTTP/1.1\" 200 -\n"
     ]
    },
    {
     "name": "stdout",
     "output_type": "stream",
     "text": [
      "1/1 [==============================] - 0s 14ms/step\n"
     ]
    },
    {
     "name": "stderr",
     "output_type": "stream",
     "text": [
      "127.0.0.1 - - [08/May/2023 12:28:25] \"GET /predict?vol_moving_avg=465445.546&adj_close_rolling_med=2554.55 HTTP/1.1\" 200 -\n"
     ]
    },
    {
     "name": "stdout",
     "output_type": "stream",
     "text": [
      "1/1 [==============================] - 0s 14ms/step\n"
     ]
    },
    {
     "name": "stderr",
     "output_type": "stream",
     "text": [
      "127.0.0.1 - - [08/May/2023 12:28:34] \"GET /predict?vol_moving_avg=412445.546&adj_close_rolling_med=2554.55 HTTP/1.1\" 200 -\n"
     ]
    }
   ],
   "source": [
    "from flask import Flask, jsonify, request\n",
    "import pandas as pd\n",
    "import joblib\n",
    "from tensorflow.keras.models import load_model\n",
    "\n",
    "app = Flask(__name__)\n",
    "\n",
    "# load the model and scaler\n",
    "loaded_model = load_model('best_lstm_model.SavedModel', compile=False)\n",
    "\n",
    "with open('scaler_X.save', 'rb') as fX:\n",
    "    scaler_X = joblib.load(fX)\n",
    "\n",
    "with open('scaler_y.save', 'rb') as fy:\n",
    "    scaler_y = joblib.load(fy)\n",
    "\n",
    "@app.route('/predict')\n",
    "def predict():\n",
    "    # get query parameters from request\n",
    "    vol_moving_avg = float(request.args.get('vol_moving_avg'))\n",
    "    adj_close_rolling_med = float(request.args.get('adj_close_rolling_med'))\n",
    "    \n",
    "    # create input dataframe\n",
    "    data = {\n",
    "        'Volume_Moving_Average': [vol_moving_avg],\n",
    "        'Adj_Close_Rolling_Median': [adj_close_rolling_med]\n",
    "    }\n",
    "    input_df = pd.DataFrame(data)\n",
    "    \n",
    "    # scale input data\n",
    "    input_scaled = scaler_X.transform(input_df.values)\n",
    "    \n",
    "    # make prediction\n",
    "    pred = loaded_model.predict(input_scaled.reshape(1,1,2))\n",
    "\n",
    "    #inverse scaled transform\n",
    "    pred = scaler_y.inverse_transform(pred)[0][0]\n",
    "    \n",
    "    # return predicted trading volume as json\n",
    "    result = round(float(pred), 2)\n",
    "    return jsonify(result)\n",
    "\n",
    "if __name__ == '__main__':\n",
    "    app.run()"
   ]
  },
  {
   "cell_type": "code",
   "execution_count": null,
   "id": "1759c0e4",
   "metadata": {},
   "outputs": [],
   "source": []
  }
 ],
 "metadata": {
  "kernelspec": {
   "display_name": "pro_project",
   "language": "python",
   "name": "pro_project"
  },
  "language_info": {
   "codemirror_mode": {
    "name": "ipython",
    "version": 3
   },
   "file_extension": ".py",
   "mimetype": "text/x-python",
   "name": "python",
   "nbconvert_exporter": "python",
   "pygments_lexer": "ipython3",
   "version": "3.10.9"
  }
 },
 "nbformat": 4,
 "nbformat_minor": 5
}
